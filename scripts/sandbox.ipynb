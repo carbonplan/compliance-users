{
 "cells": [
  {
   "cell_type": "code",
   "execution_count": null,
   "id": "86d911f0",
   "metadata": {},
   "outputs": [],
   "source": [
    "import build_users_data as build\n",
    "import projects\n",
    "import facilities\n",
    "import users_and_facilities\n",
    "import users_and_projects\n",
    "\n",
    "import pandas as pd"
   ]
  },
  {
   "cell_type": "code",
   "execution_count": null,
   "id": "e88b2c0b",
   "metadata": {},
   "outputs": [],
   "source": [
    "# reporting_periods = ['2013-2014', '2015-2017', '2018-2020', '2021']\n",
    "# mrr_data_years = ['2013', '2014', '2015', '2016', '2017', '2018', '2019', '2020', '2021']\n",
    "reporting_periods = [\"2018-2020\"]\n",
    "mrr_data_years = [\"2018\", \"2019\", \"2020\"]\n",
    "\n",
    "compliance_report_path = \"../data/compliance-reports/\"\n",
    "mrr_data_path = \"../data/mrr-data/\"\n",
    "issuance_table_path = \"../data/\""
   ]
  },
  {
   "cell_type": "code",
   "execution_count": null,
   "id": "483b206f",
   "metadata": {},
   "outputs": [],
   "source": [
    "mrr_file_year = {\n",
    "    \"2013\": \"2019\",\n",
    "    \"2014\": \"2019\",\n",
    "    \"2015\": \"2019\",\n",
    "    \"2016\": \"2020\",\n",
    "    \"2017\": \"2020\",\n",
    "    \"2018\": \"2020\",\n",
    "    \"2019\": \"2020\",\n",
    "    \"2020\": \"2021\",\n",
    "    \"2021\": \"2022\",\n",
    "}\n",
    "reporting_periods = {\n",
    "    \"2013\": \"2013-2014\",\n",
    "    \"2014\": \"2013-2014\",\n",
    "    \"2015\": \"2015-2017\",\n",
    "    \"2016\": \"2015-2017\",\n",
    "    \"2017\": \"2015-2017\",\n",
    "    \"2018\": \"2018-2020\",\n",
    "    \"2019\": \"2018-2020\",\n",
    "    \"2020\": \"2018-2020\",\n",
    "    \"2021\": \"2021\",\n",
    "}"
   ]
  },
  {
   "cell_type": "code",
   "execution_count": null,
   "id": "711a42cd",
   "metadata": {},
   "outputs": [],
   "source": [
    "project_df = projects.read_project_data(issuance_table_path)"
   ]
  },
  {
   "cell_type": "code",
   "execution_count": null,
   "id": "53c53b95",
   "metadata": {},
   "outputs": [],
   "source": [
    "facility_df = facilities.read_facility_data(mrr_data_path, mrr_data_years)"
   ]
  },
  {
   "cell_type": "code",
   "execution_count": null,
   "id": "d5f9aa4c",
   "metadata": {},
   "outputs": [],
   "source": [
    "data_path = compliance_report_path\n",
    "\n",
    "user_project_df = pd.DataFrame()\n",
    "for reporting_period in reporting_periods:\n",
    "    df = pd.read_excel(\n",
    "        data_path + reporting_period + \"compliancereport.xlsx\",\n",
    "        sheet_name=reporting_period + \" \" + \"Offset Detail\",\n",
    "        skiprows=4,\n",
    "    )\n",
    "    df = df[~pd.isnull(df).any(axis=1)]\n",
    "    df[\"reporting_period\"] = reporting_period\n",
    "    user_project_df = user_project_df.append(df)\n",
    "rename_d = {\n",
    "    \"Entity ID\": \"user_id\",\n",
    "    \"Quantity\": \"quantity\",\n",
    "    \"ARB Project ID #\": \"arb_id\",\n",
    "}\n",
    "user_project_df.rename(\n",
    "    columns=rename_d,\n",
    "    inplace=True,\n",
    ")\n",
    "user_project_df = user_project_df[\n",
    "    [\"user_id\", \"arb_id\", \"quantity\", \"reporting_period\"]\n",
    "]\n",
    "user_project_df[\"user_id\"] = user_project_df[\"user_id\"].str.strip()\n",
    "user_project_df[\"arb_id\"] = user_project_df[\"arb_id\"].str.strip()\n",
    "\n",
    "# ignoring offset vintage lets us simplify arb_id and collapse\n",
    "# rows that had the same entity and project but different vintages\n",
    "user_project_df[\"arb_id\"] = (\n",
    "    user_project_df[\"arb_id\"].str.split(\"-\").apply(lambda x: x[0])\n",
    ")\n",
    "\n",
    "user_project_df = (\n",
    "    user_project_df.groupby([\"user_id\", \"arb_id\", \"reporting_period\"])[\n",
    "        \"quantity\"\n",
    "    ]\n",
    "    .sum()\n",
    "    .astype(int)\n",
    "    .reset_index()\n",
    ")"
   ]
  },
  {
   "cell_type": "code",
   "execution_count": null,
   "id": "69b0646e",
   "metadata": {},
   "outputs": [],
   "source": [
    "user_project_df"
   ]
  },
  {
   "cell_type": "code",
   "execution_count": null,
   "id": "f0bc029a",
   "metadata": {},
   "outputs": [],
   "source": [
    "user_project_df = users_and_projects.read_user_project_data(\n",
    "    compliance_report_path, reporting_periods\n",
    ")"
   ]
  },
  {
   "cell_type": "code",
   "execution_count": null,
   "id": "b852d4ff",
   "metadata": {},
   "outputs": [],
   "source": [
    "user_facility_df = users_and_facilities.read_user_facility_data(\n",
    "    compliance_report_path, reporting_periods\n",
    ")"
   ]
  },
  {
   "cell_type": "code",
   "execution_count": null,
   "id": "c9f96e2a",
   "metadata": {},
   "outputs": [],
   "source": [
    "user_facility_df"
   ]
  },
  {
   "cell_type": "code",
   "execution_count": null,
   "id": "1c0f2abb",
   "metadata": {},
   "outputs": [],
   "source": [
    "user_facility_df.loc[user_facility_df[\"user_id\"] == \"CA1279\"]"
   ]
  }
 ],
 "metadata": {
  "kernelspec": {
   "display_name": "Python [conda env:notebook] *",
   "language": "python",
   "name": "conda-env-notebook-py"
  },
  "language_info": {
   "codemirror_mode": {
    "name": "ipython",
    "version": 3
   },
   "file_extension": ".py",
   "mimetype": "text/x-python",
   "name": "python",
   "nbconvert_exporter": "python",
   "pygments_lexer": "ipython3",
   "version": "3.9.7"
  }
 },
 "nbformat": 4,
 "nbformat_minor": 5
}
