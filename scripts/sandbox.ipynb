{
 "cells": [
  {
   "cell_type": "code",
   "execution_count": null,
   "id": "86d911f0",
   "metadata": {},
   "outputs": [],
   "source": [
    "import facilities\n",
    "import pandas as pd\n",
    "import projects\n",
    "import users_and_facilities\n",
    "import users_and_projects"
   ]
  },
  {
   "cell_type": "code",
   "execution_count": null,
   "id": "d640d285-93c4-429a-bfd8-d40cb961b7e1",
   "metadata": {},
   "outputs": [],
   "source": [
    "# Define years over which compliance data will be considered and where to find it\n",
    "# FOR UPDATES: add reporting and mrr data years\n",
    "\n",
    "reporting_periods = [\"2013-2014\", \"2015-2017\", \"2018-2020\", \"2021-2023\"]\n",
    "# reporting_periods = [\"2013-2014\", \"2015-2017\", \"2018-2020\", \"2021\", \"2022\"]\n",
    "mrr_data_years = [\n",
    "    \"2013\",\n",
    "    \"2014\",\n",
    "    \"2015\",\n",
    "    \"2016\",\n",
    "    \"2017\",\n",
    "    \"2018\",\n",
    "    \"2019\",\n",
    "    \"2020\",\n",
    "    \"2021\",\n",
    "    \"2022\",\n",
    "    \"2023\",\n",
    "]\n",
    "\n",
    "# FOR UPDATES: change to latest issuance table file name\n",
    "issuance_table_path = \"../data/nc-arboc_issuance_2024-12-10.xlsx\"\n",
    "compliance_report_path = \"../data/compliance-reports/\"\n",
    "mrr_data_path = \"../data/mrr-data/\""
   ]
  },
  {
   "cell_type": "markdown",
   "id": "bd14d7f7-1452-4b29-a389-6d1d6ae36442",
   "metadata": {},
   "source": [
    "## Check project_df against issuance data\n",
    "\n",
    "Check that first and last rows of the new issuance table are included in `project_df`. "
   ]
  },
  {
   "cell_type": "code",
   "execution_count": null,
   "id": "b8ddb374-a58c-4d94-bd50-abdcaefd4905",
   "metadata": {},
   "outputs": [],
   "source": [
    "projects.read_project_data(issuance_table_path)"
   ]
  },
  {
   "cell_type": "markdown",
   "id": "9d77cb9e-e81e-495e-864e-f9e00a95b020",
   "metadata": {},
   "source": [
    "## Check facility_df against mrr data"
   ]
  },
  {
   "cell_type": "code",
   "execution_count": null,
   "id": "1f506f5c-736f-481c-8ee2-0c8b223d6575",
   "metadata": {},
   "outputs": [],
   "source": [
    "facility_df = facilities.read_facility_data(mrr_data_path, mrr_data_years)"
   ]
  },
  {
   "cell_type": "markdown",
   "id": "b90ff4ca-770b-4765-9dcc-fbb97722ef91",
   "metadata": {},
   "source": [
    "The new reporting period should only include`facility_id`s that appear in the corresponding MRR data sheets. \n",
    "\n",
    "If the new reporting period is an annual update (e.g. '2022'), check that the first and last rows of the newest MRR data correspond with the first and last rows associated with the new reporting period in `facility_df`. \n",
    "\n",
    "If the new reporting period is an full reporting period update (e.g. `2021-2023`) check that the head of `facility_df` corresponds to facilities any of the corresponding MRR data files, and the tail of `facility_df` corresponds to the latest MRR data. (We only keep the lates instance of each `facility_id` in the dataframe). "
   ]
  },
  {
   "cell_type": "code",
   "execution_count": null,
   "id": "e048e9e9-b6e3-4906-9aa2-f38ec2283dab",
   "metadata": {},
   "outputs": [],
   "source": [
    "facility_df[facility_df[\"reporting_period\"] == \"2021-2023\"]"
   ]
  },
  {
   "cell_type": "markdown",
   "id": "60a8f8dc-f33a-4876-81fe-ad65c1228229",
   "metadata": {},
   "source": [
    "## Check user_project_df against compliance report"
   ]
  },
  {
   "cell_type": "code",
   "execution_count": null,
   "id": "b8a0c1dd-81ed-4e76-a1bd-20bed432ac2e",
   "metadata": {},
   "outputs": [],
   "source": [
    "users_and_projects = users_and_projects.read_user_project_data(\n",
    "    compliance_report_path, reporting_periods\n",
    ")"
   ]
  },
  {
   "cell_type": "markdown",
   "id": "f06194d9-8896-4bad-8552-4c696fb85952",
   "metadata": {},
   "source": [
    "For spot checking the `user_project_df` it's helpful to reference both the latest compliance report and the published version of the compliance users tool. First, subset the dataframe to the newly added reporting period and check that the head and tail match the top and bottom of the `Offset Detail` sheet of the newest compliance report."
   ]
  },
  {
   "cell_type": "code",
   "execution_count": null,
   "id": "7f21db54-44e4-4846-8472-05a1976ebf62",
   "metadata": {},
   "outputs": [],
   "source": [
    "users_and_projects[users_and_projects[\"reporting_period\"] == \"2021-2023\"]"
   ]
  },
  {
   "cell_type": "markdown",
   "id": "7c016af6-76e9-4ffc-9f6a-89a8bf651bc4",
   "metadata": {},
   "source": [
    "Second, do some spot checks using the compliance users tool: https://carbonplan.org/research/compliance-users\n",
    "\n",
    "For a number of random users, check that the tool plus the latest compliance report matches up with the `users_and_projects` dataframe."
   ]
  },
  {
   "cell_type": "code",
   "execution_count": null,
   "id": "ed840419-d32a-454a-b9fd-1491ad33b9c7",
   "metadata": {},
   "outputs": [],
   "source": [
    "users_and_projects[users_and_projects[\"user_id\"] == \"CA1204\"]"
   ]
  },
  {
   "cell_type": "markdown",
   "id": "ca5a924d-09f4-4640-9b7e-fb7893e5169a",
   "metadata": {},
   "source": [
    "# Check user_facility against compliance report"
   ]
  },
  {
   "cell_type": "code",
   "execution_count": null,
   "id": "46d0c180-3fd6-44be-b0fe-3499b491487f",
   "metadata": {},
   "outputs": [],
   "source": [
    "user_facility_df = users_and_facilities.read_user_facility_data(\n",
    "    compliance_report_path, reporting_periods\n",
    ")"
   ]
  },
  {
   "cell_type": "markdown",
   "id": "7405eeed-4519-430e-a550-5fbf964048cb",
   "metadata": {},
   "source": [
    "Rows associted with the new reporting period in `user_facility_df` should correspond to unique ARB GHG IDs in the `Compliance Summary` tab of the new compliance report. "
   ]
  },
  {
   "cell_type": "code",
   "execution_count": null,
   "id": "ed5e3e64-246e-44b3-b61e-343062e72665",
   "metadata": {},
   "outputs": [],
   "source": [
    "user_facility_df[user_facility_df[\"reporting_period\"] == \"2021-2023\"]"
   ]
  },
  {
   "cell_type": "markdown",
   "id": "4bea2809-5415-4ceb-a747-e7541dc6509d",
   "metadata": {},
   "source": [
    "It's also helpful to spot check a couple of random users (i.e. entities) from the new compliance report against the `user_facility_df` and the existing compliance users tool: https://carbonplan.org/research/compliance-users\n",
    "\n",
    "For a handful of `user_id`s, check that the tool results plus the new compliance report data match the dataframe. "
   ]
  },
  {
   "cell_type": "code",
   "execution_count": null,
   "id": "2738a074-5d2f-48e4-894e-dc81443116bd",
   "metadata": {},
   "outputs": [],
   "source": [
    "user_facility_df[user_facility_df[\"user_id\"] == \"CA1170\"]"
   ]
  },
  {
   "cell_type": "markdown",
   "id": "c755472f-2d38-478e-8228-2d033edef806",
   "metadata": {},
   "source": [
    "For a handful of `facility_id`s that appear in the new compliance report, check that the tool results plus new compliance report data match the dataframe."
   ]
  },
  {
   "cell_type": "code",
   "execution_count": null,
   "id": "4bd8c671-06dc-407f-81ec-99dd49219abe",
   "metadata": {},
   "outputs": [],
   "source": [
    "user_facility_df[user_facility_df[\"facility_id\"] == \"101162\"]"
   ]
  },
  {
   "cell_type": "markdown",
   "id": "39ff854b-03df-4317-880b-0553526eb19e",
   "metadata": {},
   "source": [
    "That should do it! \n",
    "\n",
    "If all of those checks pass, run `build_users_data.py`. "
   ]
  },
  {
   "cell_type": "markdown",
   "id": "536c24bd-bcca-4ba8-adb1-207999e34b64",
   "metadata": {},
   "source": [
    "## Sandbox\n",
    "\n",
    "Keep any other testing down here!"
   ]
  },
  {
   "cell_type": "code",
   "execution_count": null,
   "id": "6c6ae598-4fba-4a07-96ad-1de4109159ec",
   "metadata": {},
   "outputs": [],
   "source": [
    "name, info = facilities.make_facility_info(facility_df, user_facility_df)"
   ]
  },
  {
   "cell_type": "code",
   "execution_count": null,
   "id": "47722ff7-6306-40b2-9c66-98a75320f1a5",
   "metadata": {},
   "outputs": [],
   "source": []
  }
 ],
 "metadata": {
  "language_info": {
   "codemirror_mode": {
    "name": "ipython",
    "version": 3
   },
   "file_extension": ".py",
   "mimetype": "text/x-python",
   "name": "python",
   "nbconvert_exporter": "python",
   "pygments_lexer": "ipython3",
   "version": "3.8.8"
  }
 },
 "nbformat": 4,
 "nbformat_minor": 5
}
